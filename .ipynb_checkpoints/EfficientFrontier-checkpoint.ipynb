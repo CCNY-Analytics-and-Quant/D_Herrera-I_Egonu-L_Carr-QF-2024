{
 "cells": [
  {
   "cell_type": "code",
   "execution_count": 7,
   "id": "6587981b-0d3e-42bb-8bc4-94333d8b9203",
   "metadata": {
    "tags": []
   },
   "outputs": [
    {
     "name": "stdout",
     "output_type": "stream",
     "text": [
      "[*********************100%***********************]  7 of 7 completed\n"
     ]
    },
    {
     "ename": "NameError",
     "evalue": "name 'dsiplay' is not defined",
     "output_type": "error",
     "traceback": [
      "\u001b[0;31m---------------------------------------------------------------------------\u001b[0m",
      "\u001b[0;31mNameError\u001b[0m                                 Traceback (most recent call last)",
      "\u001b[0;32m/tmp/ipykernel_4096782/2320219796.py\u001b[0m in \u001b[0;36m<module>\u001b[0;34m\u001b[0m\n\u001b[1;32m     66\u001b[0m \u001b[0;34m\u001b[0m\u001b[0m\n\u001b[1;32m     67\u001b[0m \u001b[0mef\u001b[0m \u001b[0;34m=\u001b[0m \u001b[0mEfficientFrontier\u001b[0m\u001b[0;34m(\u001b[0m\u001b[0mreturns\u001b[0m \u001b[0;34m=\u001b[0m \u001b[0mreturns\u001b[0m\u001b[0;34m,\u001b[0m \u001b[0massets\u001b[0m \u001b[0;34m=\u001b[0m \u001b[0mstocks\u001b[0m\u001b[0;34m)\u001b[0m\u001b[0;34m\u001b[0m\u001b[0;34m\u001b[0m\u001b[0m\n\u001b[0;32m---> 68\u001b[0;31m \u001b[0mdsiplay\u001b[0m\u001b[0;34m(\u001b[0m\u001b[0mef\u001b[0m\u001b[0;34m.\u001b[0m\u001b[0mCalc\u001b[0m\u001b[0;34m(\u001b[0m\u001b[0;34m)\u001b[0m\u001b[0;34m.\u001b[0m\u001b[0mT\u001b[0m\u001b[0;34m,\u001b[0m \u001b[0mef\u001b[0m\u001b[0;34m.\u001b[0m\u001b[0mcorrelation\u001b[0m\u001b[0;34m(\u001b[0m\u001b[0;34m)\u001b[0m\u001b[0;34m)\u001b[0m\u001b[0;34m\u001b[0m\u001b[0;34m\u001b[0m\u001b[0m\n\u001b[0m",
      "\u001b[0;31mNameError\u001b[0m: name 'dsiplay' is not defined"
     ]
    }
   ],
   "source": [
    "import math\n",
    "import pandas as pd\n",
    "import numpy as np\n",
    "import datetime as dt\n",
    "import yfinance as yf\n",
    "from IPython.display import display\n",
    "\n",
    "stocks = ['AAPL', 'TSLA', 'NVDA', 'K', 'CRSP', 'NEM', 'PLTR']\n",
    "\n",
    "end_date = dt.datetime.today()\n",
    "start_date = end_date - dt.timedelta(2*365)\n",
    "\n",
    "price = yf.download(stocks, period = '2y')['Adj Close'].pct_change()\n",
    "\n",
    "returns = price\n",
    "\n",
    "class EfficientFrontier:\n",
    "    def __init__(self,returns, assets):\n",
    "        self.returns = returns\n",
    "        self.assets = assets\n",
    " \n",
    "    def Calc(self):\n",
    "        tbl = pd.DataFrame(index = self.assets)\n",
    "        tbl['Mean'] = self.returns.mean()\n",
    "        tbl['Variance'] = self.returns.var()\n",
    "        return tbl.T\n",
    "   \n",
    "    def correlation(self):\n",
    "        tbl = pd.DataFrame(index = self.assets)\n",
    "        corr = self.returns.corr()\n",
    "        return corr\n",
    "    \n",
    "    #code taken from https://www.youtube.com/watch?v=Isutk-wqJfE\n",
    "    def PortfolioReturn(self, weight):\n",
    "        portfolio_returns = np.sum(self.returns.mean() * weight) * 252\n",
    "        return portfolio_returns\n",
    "    #code taken from https://www.youtube.com/watch?v=Isutk-wqJfE\n",
    "    def PortfolioVolume(self, weight):\n",
    "        std = np.sqrt(np.dot(weight.T, np.dot(self.returns.cov() * 252, weight)))\n",
    "        return std \n",
    "    \n",
    "returnCol = []\n",
    "volumeCol = []\n",
    "weightsCol = []\n",
    "sharperatioCol = []\n",
    "    \n",
    "for i in range (100000):\n",
    "    \n",
    "    weights = np.random.random(len(stocks))\n",
    "    weights /= np.sum(weights)\n",
    "    weightsCol.append(weights)\n",
    "    port_return = ef.PortfolioReturn(weights)\n",
    "    port_volatility = ef.PortfolioVolume(weights)\n",
    "    returnCol.append(port_return)\n",
    "    volumeCol.append(port_volatility)\n",
    "    \n",
    "    sharpe_ratio = (port_return - 0.01)/ port_volatility\n",
    "    sharperatioCol.append(sharpe_ratio)\n",
    "    \n",
    "portfolio_results = pd.DataFrame({\n",
    "    'Return' : returnCol,\n",
    "    'Volatility' : volumeCol,\n",
    "    'SharpeRatio' : sharperatioCol,\n",
    "    'Weights' : weightsCol\n",
    "})\n",
    "\n",
    "ef = EfficientFrontier(returns = returns, assets = stocks)\n",
    "dsiplay(ef.Calc().T, ef.correlation())"
   ]
  },
  {
   "cell_type": "code",
   "execution_count": null,
   "id": "7eaa195f-3642-440b-a45e-5bd22de9c832",
   "metadata": {},
   "outputs": [],
   "source": []
  }
 ],
 "metadata": {
  "kernelspec": {
   "display_name": "Python 3 (ipykernel)",
   "language": "python",
   "name": "python3"
  },
  "language_info": {
   "codemirror_mode": {
    "name": "ipython",
    "version": 3
   },
   "file_extension": ".py",
   "mimetype": "text/x-python",
   "name": "python",
   "nbconvert_exporter": "python",
   "pygments_lexer": "ipython3",
   "version": "3.9.7"
  }
 },
 "nbformat": 4,
 "nbformat_minor": 5
}
