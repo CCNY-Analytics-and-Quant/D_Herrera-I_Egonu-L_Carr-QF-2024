{
 "cells": [
  {
   "cell_type": "code",
   "execution_count": 55,
   "id": "7db6b42f-2c22-4e8c-97cb-b6cd57bfd3da",
   "metadata": {
    "tags": []
   },
   "outputs": [
    {
     "name": "stdout",
     "output_type": "stream",
     "text": [
      "[*********************100%***********************]  7 of 7 completed\n"
     ]
    }
   ],
   "source": [
    "import math\n",
    "import pandas as pd\n",
    "import numpy as np\n",
    "import datetime as dt\n",
    "import yfinance as yf\n",
    "import matplotlib.pyplot as plt\n",
    "import seaborn as sn\n",
    "import scipy.optimize as sco\n",
    "\n",
    "stocks = ['AAPL', 'TSLA', 'NVDA', 'K', 'CRSP', 'NEM', 'PLTR']\n",
    "\n",
    "end_date = dt.datetime.today()\n",
    "start_date = end_date - dt.timedelta(2*365)\n",
    "\n",
    "price = yf.download(stocks, period = '2y')['Adj Close'].pct_change().dropna()\n",
    "\n",
    "returns = price\n",
    "\n",
    "class EfficientFrontier:\n",
    "    def __init__(self,returns, assets):\n",
    "        self.returns = returns\n",
    "        self.assets = assets\n",
    " \n",
    "    def Calc(self):\n",
    "        self.tbl = pd.DataFrame(index = self.assets)\n",
    "        self.tbl['Mean'] = self.returns.mean()\n",
    "        self.tbl['Variance'] = self.returns.var()\n",
    "        return self.tbl.T\n",
    "   \n",
    "    def correlation(self):\n",
    "        self.tbl = pd.DataFrame(index = self.assets)\n",
    "        self.corr = self.returns.corr()\n",
    "        return self.corr\n",
    "    \n",
    "    #code taken from https://www.youtube.com/watch?v=Isutk-wqJfE\n",
    "    def PortfolioReturn(self, weight):\n",
    "        return np.sum(self.returns.mean() * weight) * 252\n",
    "    \n",
    "    #code taken from https://www.youtube.com/watch?v=Isutk-wqJfE\n",
    "    def PortfolioVolatility(self, weight):\n",
    "        return np.sqrt(np.dot(weight.T, np.dot(self.returns.cov() * 252, weight)))\n",
    "    \n",
    "    def MonteCarlo(self, simulations = 100000):\n",
    "        returnCol = []\n",
    "        volatilityCol = []\n",
    "        weightsCol = []\n",
    "        sharperatioCol = []\n",
    "\n",
    "        for i in range (simulations):\n",
    "            weights = np.random.random(len(stocks))\n",
    "            weights /= np.sum(weights)\n",
    "            weightsCol.append(weights)\n",
    "            port_return = self.PortfolioReturn(weights)\n",
    "            port_volatility = self.PortfolioVolatility(weights)\n",
    "            returnCol.append(port_return)\n",
    "            volatilityCol.append(port_volatility)\n",
    "            sharperatioCol.append((port_return - 0.01) / port_volatility)\n",
    "            \n",
    "        returnCol = np.array(returnCol)\n",
    "        volatilityCol = np.array(volatilityCol)\n",
    "        sharperatioCol = np.array(sharperatioCol)\n",
    "\n",
    "        max_sharpe_idx = sharperatioCol.argmax()\n",
    "        optimal_weights = weightsCol[max_sharpe_idx]\n",
    "        \n",
    "        return returnCol, volatilityCol, sharperatioCol, optimal_weights\n",
    "    \n",
    "    def sharpeMinzd(self, weight):\n",
    "        return -(self.PortfolioReturn(weight)-.02) / self.PortfolioVolatility(weight)\n",
    "\n",
    "constraints = ({'type': 'eq', 'fun': lambda x: np.sum(x) - 1})\n",
    "bounds = tuple((0, 1) for x in range(len(stocks)))\n",
    "eWV = np.array(len(stocks) * [1.0 / len(stocks),])\n",
    "\n",
    "ef = EfficientFrontier(returns=returns, assets=stocks)\n",
    "\n",
    "sharpeOptimized = sco.minimize(ef.sharpeMinzd,\n",
    "                             eWV,\n",
    "                             method = 'SLSQP',\n",
    "                             bounds = bounds,\n",
    "                             constraints = constraints)\n",
    "volOptimized = sco.minimize(ef.PortfolioVolatility,\n",
    "                            eWV,\n",
    "                            method = 'SLSQP',\n",
    "                            bounds = bounds,\n",
    "                            constraints = constraints)\n",
    "\n",
    "treturns = np.linspace(min(returnCol), max(returnCol), 50)\n",
    "tvolatility = []\n",
    "\n",
    "for treturn in treturns:\n",
    "    cons = ({'type': 'eq', 'fun': lambda x: ef.PortfolioReturn(x) - treturn},\n",
    "            {'type': 'eq', 'fun': lambda x: np.sum(x) - 1})\n",
    "    res = sco.minimize(ef.PortfolioVolatility, eWV, method='SLSQP', bounds=bounds, constraints=cons)\n",
    "    tvolatility.append(res['fun'])\n",
    "\n",
    "tvolatility = np.array(tvolatility)"
   ]
  },
  {
   "cell_type": "code",
   "execution_count": 56,
   "id": "dfda6928-c6f1-4298-8166-cab8eec3504d",
   "metadata": {
    "tags": []
   },
   "outputs": [
    {
     "name": "stdout",
     "output_type": "stream",
     "text": [
      "Mean and Variance Table: \n"
     ]
    },
    {
     "data": {
      "text/html": [
       "<div>\n",
       "<style scoped>\n",
       "    .dataframe tbody tr th:only-of-type {\n",
       "        vertical-align: middle;\n",
       "    }\n",
       "\n",
       "    .dataframe tbody tr th {\n",
       "        vertical-align: top;\n",
       "    }\n",
       "\n",
       "    .dataframe thead th {\n",
       "        text-align: right;\n",
       "    }\n",
       "</style>\n",
       "<table border=\"1\" class=\"dataframe\">\n",
       "  <thead>\n",
       "    <tr style=\"text-align: right;\">\n",
       "      <th></th>\n",
       "      <th>Mean</th>\n",
       "      <th>Variance</th>\n",
       "    </tr>\n",
       "  </thead>\n",
       "  <tbody>\n",
       "    <tr>\n",
       "      <th>AAPL</th>\n",
       "      <td>0.000943</td>\n",
       "      <td>0.000227</td>\n",
       "    </tr>\n",
       "    <tr>\n",
       "      <th>TSLA</th>\n",
       "      <td>0.000930</td>\n",
       "      <td>0.001380</td>\n",
       "    </tr>\n",
       "    <tr>\n",
       "      <th>NVDA</th>\n",
       "      <td>0.005196</td>\n",
       "      <td>0.001098</td>\n",
       "    </tr>\n",
       "    <tr>\n",
       "      <th>K</th>\n",
       "      <td>0.000474</td>\n",
       "      <td>0.000208</td>\n",
       "    </tr>\n",
       "    <tr>\n",
       "      <th>CRSP</th>\n",
       "      <td>0.000445</td>\n",
       "      <td>0.001267</td>\n",
       "    </tr>\n",
       "    <tr>\n",
       "      <th>NEM</th>\n",
       "      <td>0.000602</td>\n",
       "      <td>0.000511</td>\n",
       "    </tr>\n",
       "    <tr>\n",
       "      <th>PLTR</th>\n",
       "      <td>0.004012</td>\n",
       "      <td>0.001698</td>\n",
       "    </tr>\n",
       "  </tbody>\n",
       "</table>\n",
       "</div>"
      ],
      "text/plain": [
       "          Mean  Variance\n",
       "AAPL  0.000943  0.000227\n",
       "TSLA  0.000930  0.001380\n",
       "NVDA  0.005196  0.001098\n",
       "K     0.000474  0.000208\n",
       "CRSP  0.000445  0.001267\n",
       "NEM   0.000602  0.000511\n",
       "PLTR  0.004012  0.001698"
      ]
     },
     "metadata": {},
     "output_type": "display_data"
    }
   ],
   "source": [
    "print('Mean and Variance Table: ')\n",
    "display(ef.Calc().T) "
   ]
  },
  {
   "cell_type": "code",
   "execution_count": 57,
   "id": "e15c24db-9753-4d81-811a-6988233e4ea9",
   "metadata": {
    "tags": []
   },
   "outputs": [
    {
     "name": "stdout",
     "output_type": "stream",
     "text": [
      "Correlation Matrix: \n"
     ]
    },
    {
     "data": {
      "text/html": [
       "<div>\n",
       "<style scoped>\n",
       "    .dataframe tbody tr th:only-of-type {\n",
       "        vertical-align: middle;\n",
       "    }\n",
       "\n",
       "    .dataframe tbody tr th {\n",
       "        vertical-align: top;\n",
       "    }\n",
       "\n",
       "    .dataframe thead th {\n",
       "        text-align: right;\n",
       "    }\n",
       "</style>\n",
       "<table border=\"1\" class=\"dataframe\">\n",
       "  <thead>\n",
       "    <tr style=\"text-align: right;\">\n",
       "      <th></th>\n",
       "      <th>AAPL</th>\n",
       "      <th>CRSP</th>\n",
       "      <th>K</th>\n",
       "      <th>NEM</th>\n",
       "      <th>NVDA</th>\n",
       "      <th>PLTR</th>\n",
       "      <th>TSLA</th>\n",
       "    </tr>\n",
       "  </thead>\n",
       "  <tbody>\n",
       "    <tr>\n",
       "      <th>AAPL</th>\n",
       "      <td>1.000000</td>\n",
       "      <td>0.332843</td>\n",
       "      <td>-0.037883</td>\n",
       "      <td>0.154061</td>\n",
       "      <td>0.424293</td>\n",
       "      <td>0.360844</td>\n",
       "      <td>0.425800</td>\n",
       "    </tr>\n",
       "    <tr>\n",
       "      <th>CRSP</th>\n",
       "      <td>0.332843</td>\n",
       "      <td>1.000000</td>\n",
       "      <td>0.001206</td>\n",
       "      <td>0.158483</td>\n",
       "      <td>0.233889</td>\n",
       "      <td>0.378259</td>\n",
       "      <td>0.300940</td>\n",
       "    </tr>\n",
       "    <tr>\n",
       "      <th>K</th>\n",
       "      <td>-0.037883</td>\n",
       "      <td>0.001206</td>\n",
       "      <td>1.000000</td>\n",
       "      <td>0.077859</td>\n",
       "      <td>-0.166259</td>\n",
       "      <td>-0.048777</td>\n",
       "      <td>-0.047201</td>\n",
       "    </tr>\n",
       "    <tr>\n",
       "      <th>NEM</th>\n",
       "      <td>0.154061</td>\n",
       "      <td>0.158483</td>\n",
       "      <td>0.077859</td>\n",
       "      <td>1.000000</td>\n",
       "      <td>0.051520</td>\n",
       "      <td>0.107826</td>\n",
       "      <td>-0.001553</td>\n",
       "    </tr>\n",
       "    <tr>\n",
       "      <th>NVDA</th>\n",
       "      <td>0.424293</td>\n",
       "      <td>0.233889</td>\n",
       "      <td>-0.166259</td>\n",
       "      <td>0.051520</td>\n",
       "      <td>1.000000</td>\n",
       "      <td>0.366574</td>\n",
       "      <td>0.355859</td>\n",
       "    </tr>\n",
       "    <tr>\n",
       "      <th>PLTR</th>\n",
       "      <td>0.360844</td>\n",
       "      <td>0.378259</td>\n",
       "      <td>-0.048777</td>\n",
       "      <td>0.107826</td>\n",
       "      <td>0.366574</td>\n",
       "      <td>1.000000</td>\n",
       "      <td>0.386347</td>\n",
       "    </tr>\n",
       "    <tr>\n",
       "      <th>TSLA</th>\n",
       "      <td>0.425800</td>\n",
       "      <td>0.300940</td>\n",
       "      <td>-0.047201</td>\n",
       "      <td>-0.001553</td>\n",
       "      <td>0.355859</td>\n",
       "      <td>0.386347</td>\n",
       "      <td>1.000000</td>\n",
       "    </tr>\n",
       "  </tbody>\n",
       "</table>\n",
       "</div>"
      ],
      "text/plain": [
       "          AAPL      CRSP         K       NEM      NVDA      PLTR      TSLA\n",
       "AAPL  1.000000  0.332843 -0.037883  0.154061  0.424293  0.360844  0.425800\n",
       "CRSP  0.332843  1.000000  0.001206  0.158483  0.233889  0.378259  0.300940\n",
       "K    -0.037883  0.001206  1.000000  0.077859 -0.166259 -0.048777 -0.047201\n",
       "NEM   0.154061  0.158483  0.077859  1.000000  0.051520  0.107826 -0.001553\n",
       "NVDA  0.424293  0.233889 -0.166259  0.051520  1.000000  0.366574  0.355859\n",
       "PLTR  0.360844  0.378259 -0.048777  0.107826  0.366574  1.000000  0.386347\n",
       "TSLA  0.425800  0.300940 -0.047201 -0.001553  0.355859  0.386347  1.000000"
      ]
     },
     "metadata": {},
     "output_type": "display_data"
    },
    {
     "data": {
      "image/png": "[encoded data removed]",
      "text/plain": [
       "<Figure size 432x432 with 2 Axes>"
      ]
     },
     "metadata": {
      "needs_background": "light"
     },
     "output_type": "display_data"
    }
   ],
   "source": [
    "print('Correlation Matrix: ')\n",
    "display(ef.correlation())\n",
    "\n",
    "plt.figure(figsize=(6, 6))\n",
    "sn.heatmap(returns.corr(), annot=True, cmap=\"coolwarm\")\n",
    "plt.title('Correlation Matrix')\n",
    "plt.show()"
   ]
  },
  {
   "cell_type": "code",
   "execution_count": null,
   "id": "7e511673-5fe4-49bb-9974-e18b0b79384c",
   "metadata": {
    "tags": []
   },
   "outputs": [],
   "source": [
    "returnCol, volatilityCol, sharpe_ratio, optimal_weights = ef.MonteCarlo()\n",
    "\n",
    "plt.figure(figsize = (10, 6))\n",
    "plt.scatter(volatilityCol, returnCol, c = sharpe_ratio, cmap = 'viridis')\n",
    "plt.title('Efficient Frontier')\n",
    "plt.xlabel('expected volatility')\n",
    "plt.ylabel('expected return')\n",
    "plt.colorbar(label = 'Sharpe ratio')\n",
    "plt.show()"
   ]
  },
  {
   "cell_type": "code",
   "execution_count": null,
   "id": "a50cfcdb-c518-439e-86c1-043eedea0a10",
   "metadata": {
    "tags": []
   },
   "outputs": [],
   "source": [
    "optimal_weights_table = pd.DataFrame({\n",
    "    'Asset': stocks,\n",
    "    'Optimal Weight': optimal_weights\n",
    "})\n",
    "print(\"Optimal Weights for Maximum Sharpe Ratio:\")\n",
    "display(optimal_weights_table.style.hide_index())"
   ]
  },
  {
   "cell_type": "code",
   "execution_count": null,
   "id": "b8306f49-56ca-4bbe-9ede-ddc9d07c9d9a",
   "metadata": {
    "tags": []
   },
   "outputs": [],
   "source": [
    "plt.figure(figsize = (10, 6))\n",
    "plt.scatter(volatilityCol, returnCol, c = sharpe_ratio,marker='.', alpha=0.8, cmap='viridis')\n",
    "plt.plot(tvolatility, treturns, 'b', lw = 4.0)\n",
    "plt.plot(ef.PortfolioVolatility(sharpeOptimized['x']), ef.PortfolioReturn(sharpeOptimized['x']),\n",
    "         'y*', markersize = 15.0)\n",
    "plt.plot(ef.PortfolioVolatility(volOptimized['x']), ef.PortfolioReturn(volOptimized['x']),\n",
    "         'r*', markersize = 15.0)\n",
    "plt.xlabel('expected volatility')\n",
    "plt.ylabel('expected return')\n",
    "plt.colorbar(label = 'Sharpe ratio')"
   ]
  },
  {
   "cell_type": "code",
   "execution_count": null,
   "id": "c5944e8a-4c01-4dc6-8415-e8f0a304f21b",
   "metadata": {},
   "outputs": [],
   "source": []
  }
 ],
 "metadata": {
  "kernelspec": {
   "display_name": "Python 3 (ipykernel)",
   "language": "python",
   "name": "python3"
  },
  "language_info": {
   "codemirror_mode": {
    "name": "ipython",
    "version": 3
   },
   "file_extension": ".py",
   "mimetype": "text/x-python",
   "name": "python",
   "nbconvert_exporter": "python",
   "pygments_lexer": "ipython3",
   "version": "3.9.7"
  }
 },
 "nbformat": 4,
 "nbformat_minor": 5
}
