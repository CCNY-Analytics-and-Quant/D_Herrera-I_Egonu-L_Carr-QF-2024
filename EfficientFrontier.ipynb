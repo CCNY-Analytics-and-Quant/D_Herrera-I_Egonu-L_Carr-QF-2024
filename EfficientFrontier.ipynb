{
 "cells": [
  {
   "cell_type": "code",
   "execution_count": null,
   "id": "5b10629a-8b30-4487-a5a1-6bb5d033296b",
   "metadata": {
    "tags": []
   },
   "outputs": [
    {
     "name": "stdout",
     "output_type": "stream",
     "text": [
      "[*********************100%***********************]  7 of 7 completed\n"
     ]
    }
   ],
   "source": [
    "import math\n",
    "import pandas as pd\n",
    "import numpy as np\n",
    "import datetime as dt\n",
    "import yfinance as yf\n",
    "import matplotlib.pyplot as plt\n",
    "import seaborn as sn\n",
    "\n",
    "stocks = ['AAPL', 'TSLA', 'NVDA', 'K', 'CRSP', 'NEM', 'PLTR']\n",
    "\n",
    "end_date = dt.datetime.today()\n",
    "start_date = end_date - dt.timedelta(2*365)\n",
    "\n",
    "price = yf.download(stocks, period = '2y')['Adj Close'].pct_change().dropna()\n",
    "\n",
    "returns = price\n",
    "\n",
    "class EfficientFrontier:\n",
    "    def __init__(self,returns, assets):\n",
    "        self.returns = returns\n",
    "        self.assets = assets\n",
    " \n",
    "    def Calc(self):\n",
    "        self.tbl = pd.DataFrame(index = self.assets)\n",
    "        self.tbl['Mean'] = self.returns.mean()\n",
    "        self.tbl['Variance'] = self.returns.var()\n",
    "        return self.tbl.T\n",
    "   \n",
    "    def correlation(self):\n",
    "        self.tbl = pd.DataFrame(index = self.assets)\n",
    "        self.corr = self.returns.corr()\n",
    "        return self.corr\n",
    "    \n",
    "    #code taken from https://www.youtube.com/watch?v=Isutk-wqJfE\n",
    "    def PortfolioReturn(self, weight):\n",
    "        return np.sum(self.returns.mean() * weight) * 252\n",
    "    \n",
    "    #code taken from https://www.youtube.com/watch?v=Isutk-wqJfE\n",
    "    def PortfolioVolatility(self, weight):\n",
    "        return np.sqrt(np.dot(weight.T, np.dot(self.returns.cov() * 252, weight))) \n",
    "returnCol = []\n",
    "volatilityCol = []\n",
    "weightsCol = []\n",
    "sharperatioCol = []\n",
    "\n",
    "ef = EfficientFrontier(returns = returns, assets = stocks)\n",
    "    \n",
    "for i in range (1000):\n",
    "    \n",
    "    weights = np.random.random(len(stocks))\n",
    "    weights /= np.sum(weights)\n",
    "    weightsCol.append(weights)\n",
    "    port_return = ef.PortfolioReturn(weights)\n",
    "    port_volatility = ef.PortfolioVolatility(weights)\n",
    "    returnCol.append(port_return)\n",
    "    volatilityCol.append(port_volatility)\n",
    "    \n",
    "ER = np.array(returnCol)\n",
    "EV = np.array(volatilityCol)\n",
    "sharpe_ratio = (ER - 0.01)/ EV\n",
    "\n",
    "display(ef.Calc().T, ef.correlation())\n",
    "\n",
    "plt.figure(figsize=(6, 6))\n",
    "sn.heatmap(returns.corr(), annot=True, cmap=\"coolwarm\")\n",
    "\n",
    "plt.figure(figsize = (10, 6))\n",
    "plt.scatter(EV, ER, c = sharpe_ratio, cmap = 'viridis')\n",
    "plt.title('Efficient Frontier')\n",
    "plt.xlabel('expected volatility')\n",
    "plt.ylabel('expected return')\n",
    "plt.colorbar(label = 'Sharpe ratio')\n",
    "plt.show()\n"
   ]
  },
  {
   "cell_type": "code",
   "execution_count": null,
   "id": "7eaa195f-3642-440b-a45e-5bd22de9c832",
   "metadata": {},
   "outputs": [],
   "source": []
  }
 ],
 "metadata": {
  "kernelspec": {
   "display_name": "Python 3 (ipykernel)",
   "language": "python",
   "name": "python3"
  },
  "language_info": {
   "codemirror_mode": {
    "name": "ipython",
    "version": 3
   },
   "file_extension": ".py",
   "mimetype": "text/x-python",
   "name": "python",
   "nbconvert_exporter": "python",
   "pygments_lexer": "ipython3",
   "version": "3.9.7"
  }
 },
 "nbformat": 4,
 "nbformat_minor": 5
}
