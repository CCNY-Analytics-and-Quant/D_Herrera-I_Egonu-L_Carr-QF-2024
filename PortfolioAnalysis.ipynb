{
 "cells": [
  {
   "cell_type": "code",
   "execution_count": 3,
   "metadata": {},
   "outputs": [
    {
     "name": "stderr",
     "output_type": "stream",
     "text": [
      "[*********************100%***********************]  7 of 7 completed\n",
      "[*********************100%***********************]  7 of 7 completed\n",
      "[*********************100%***********************]  3 of 3 completed"
     ]
    },
    {
     "name": "stdout",
     "output_type": "stream",
     "text": [
      "        Portfolio Weight  Annualized Volatility (3 months)  Beta against SPY  \\\n",
      "Ticker                                                                         \n",
      "AAPL            0.142857                          0.225913          1.000410   \n",
      "CRSP            0.142857                          0.485624          2.218461   \n",
      "K               0.142857                          0.395310          2.715886   \n",
      "NEM             0.142857                          0.290813         -0.279678   \n",
      "NVDA            0.142857                          0.653355          2.050866   \n",
      "PLTR            0.142857                          0.532938          0.793367   \n",
      "TSLA            0.142857                          0.658173          2.571738   \n",
      "\n",
      "        Beta against IWM  Beta against DIA  \n",
      "Ticker                                      \n",
      "AAPL            0.334830          0.810196  \n",
      "CRSP            1.027943          1.821779  \n",
      "K               0.650053          1.286536  \n",
      "NEM            -0.012661          0.016924  \n",
      "NVDA            1.601910          2.233474  \n",
      "PLTR            0.657652          0.979114  \n",
      "TSLA            1.200303          2.456706  \n"
     ]
    },
    {
     "name": "stderr",
     "output_type": "stream",
     "text": [
      "\n"
     ]
    }
   ],
   "source": [
    "import pandas as pd\n",
    "from datetime import datetime as dt\n",
    "import yfinance as yf\n",
    "import numpy as np\n",
    "\n",
    "assets = ['AAPL', 'TSLA', 'NVDA', 'K','CRSP','NEM','PLTR']\n",
    "benchmarks = ['SPY','IWM','DIA']\n",
    "\n",
    "#Date times\n",
    "#Date functions found on StackOverflow\n",
    "end_date = dt.now().strftime('%Y-%m-%d')\n",
    "startdate_3m = pd.to_datetime(end_date) - pd.DateOffset(months = 3)\n",
    "startdate_12m = pd.to_datetime(end_date) - pd.DateOffset(months = 12)\n",
    "\n",
    "#3months, 12months, benchmark data\n",
    "data_3m = yf.download(tickers = assets, start = startdate_3m, end = end_date)['Adj Close']\n",
    "data_12m = yf.download(tickers = assets, start = startdate_12m, end = end_date)['Adj Close']\n",
    "benchmarks_data = yf.download(tickers = benchmarks, start = startdate_12m, end = end_date)['Adj Close']\n",
    "\n",
    "#Portfolio weight\n",
    "equal_weight = 1 / len(assets)\n",
    "\n",
    "#Daily returns for volatiltity\n",
    "returns_3m = data_3m.pct_change().dropna()\n",
    "returns_12m = data_12m.pct_change().dropna()\n",
    "returns_benchmark = benchmarks_data.pct_change().dropna()\n",
    "\n",
    "#Annualized volatility - formula (Standard Deviation * square root of 252)\n",
    "Annualized_Volatility = returns_3m.std() * np.sqrt(252) \n",
    "\n",
    "#StackOverflow used to find the covariance and variance snippets for the beta\n",
    "#Defined function to find beta by calculating covariance and variance\n",
    "def calculate_beta(asset_returns, benchmark_returns):\n",
    "    cov_matrix = np.cov(asset_returns, benchmark_returns)\n",
    "    cov_stock_benchmark = cov_matrix[0, 1]\n",
    "    var_benchmark = np.var(benchmark_returns)\n",
    "    beta = cov_stock_benchmark / var_benchmark\n",
    "    return beta\n",
    "\n",
    "#Calculates the beta against the benchmarks\n",
    "betas_spy = [calculate_beta(returns_12m[ticker], returns_benchmark['SPY']) for ticker in assets]\n",
    "betas_iwm = [calculate_beta(returns_12m[ticker], returns_benchmark['IWM']) for ticker in assets]\n",
    "betas_dia = [calculate_beta(returns_12m[ticker], returns_benchmark['DIA']) for ticker in assets]\n",
    "\n",
    "#Risk analysis table\n",
    "analysis = pd.DataFrame({\n",
    "    'Portfolio Weight' : equal_weight,\n",
    "    'Annualized Volatility (3 months)' : Annualized_Volatility,\n",
    "    'Beta against SPY' : betas_spy,\n",
    "    'Beta against IWM' : betas_iwm,\n",
    "    'Beta against DIA' : betas_dia\n",
    "})\n",
    "\n",
    "print (analysis)"
   ]
  }
 ],
 "metadata": {
  "kernelspec": {
   "display_name": "Python 3",
   "language": "python",
   "name": "python3"
  },
  "language_info": {
   "codemirror_mode": {
    "name": "ipython",
    "version": 3
   },
   "file_extension": ".py",
   "mimetype": "text/x-python",
   "name": "python",
   "nbconvert_exporter": "python",
   "pygments_lexer": "ipython3",
   "version": "3.12.1"
  }
 },
 "nbformat": 4,
 "nbformat_minor": 2
}
